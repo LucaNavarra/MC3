{
  "nbformat": 4,
  "nbformat_minor": 0,
  "metadata": {
    "colab": {
      "provenance": [],
      "include_colab_link": true
    },
    "kernelspec": {
      "name": "python3",
      "display_name": "Python 3"
    },
    "language_info": {
      "name": "python"
    }
  },
  "cells": [
    {
      "cell_type": "markdown",
      "metadata": {
        "id": "view-in-github",
        "colab_type": "text"
      },
      "source": [
        "<a href=\"https://colab.research.google.com/github/LucaNavarra/MC3/blob/main/MC3.ipynb\" target=\"_parent\"><img src=\"https://colab.research.google.com/assets/colab-badge.svg\" alt=\"Open In Colab\"/></a>"
      ]
    },
    {
      "cell_type": "markdown",
      "source": [
        "# Librerie utilizzate #"
      ],
      "metadata": {
        "id": "wb_KtCxXfOr4"
      }
    },
    {
      "cell_type": "code",
      "execution_count": null,
      "metadata": {
        "id": "QluujjJCcTC1"
      },
      "outputs": [],
      "source": [
        "import scipy.io as sio\n",
        "import pandas as pd\n",
        "import torch\n",
        "import torch.nn as nn\n",
        "import torch.optim as optim\n",
        "from torch.optim import lr_scheduler\n",
        "import numpy as np\n",
        "import torchvision\n",
        "from torchvision import datasets, models, transforms\n",
        "import matplotlib.pyplot as plt\n",
        "import time\n",
        "import os\n",
        "import shutil\n",
        "import copy\n",
        "import random\n",
        "from random import shuffle\n",
        "import matplotlib.pyplot as plt"
      ]
    },
    {
      "cell_type": "markdown",
      "source": [
        "#Check device#"
      ],
      "metadata": {
        "id": "BKUFMSrkfGSq"
      }
    },
    {
      "cell_type": "code",
      "source": [
        "print(torch.__version__)\n",
        "print(torch.cuda.is_available())\n",
        "print(torch.cuda.get_device_name(0))\n",
        "device = torch.device(\"cuda:0\" if torch.cuda.is_available() else \"cpu\")\n",
        "print(device)"
      ],
      "metadata": {
        "id": "h_mum9GrfC61"
      },
      "execution_count": null,
      "outputs": []
    },
    {
      "cell_type": "code",
      "source": [
        "#rendere l'esecuzione deterministica\n",
        "torch.manual_seed(0)\n",
        "np.random.seed(0)\n",
        "torch.backends.cudnn.deterministic = True\n",
        "torch.backends.cudnn.benchmark = False"
      ],
      "metadata": {
        "id": "GWlt4Qb5fd39"
      },
      "execution_count": null,
      "outputs": []
    },
    {
      "cell_type": "markdown",
      "source": [
        "#Classe per lettura dati#"
      ],
      "metadata": {
        "id": "zkeKK-q9fixV"
      }
    },
    {
      "cell_type": "code",
      "source": [
        "class My_DatasetFolder(Dataset):\n",
        "  def __init__(self, root,  transform, is_valid_file, list_classes):\n",
        "    self.root = root     #path dei dati\n",
        "    self.transform = transform    #lista di trasformazioni\n",
        "    self.is_valid_file = is_valid_file #check per capire quali file leggere\n",
        "    self.list_classes = list_classes   #lista di classi\n",
        "    self.samples = self.__get_samples()\n",
        "\n",
        "  def __len__(self):\n",
        "    return len(self.samples)\n",
        "\n",
        "  def __get_samples(self):\n",
        "    ListFiles=[]\n",
        "    for c in self.list_classes:\n",
        "      list_folder = os.listdir(self.root + '/' + c)\n",
        "      for folder in list_folder:\n",
        "        listofFiles = os.listdir(self.root + '/' + c + '/' + folder)\n",
        "        for file in listofFiles:\n",
        "          if self.is_valid_file(self.root + '/' + c + '/' + folder + '/' + file):\n",
        "            ListFiles.append((self.root + '/' + c + '/' + folder + '/' + file, self.list_classes.index(c)))\n",
        "\n",
        "    return ListFiles\n",
        "\n",
        "  def loader_fc(self, path):\n",
        "    img = np.load(path)\n",
        "    return img\n",
        "\n",
        "  def __getitem__(self, index: int):\n",
        "    path, target = self.samples[index]\n",
        "    sample = self.loader_fc(path)\n",
        "    if self.transform is not None:\n",
        "      sample = self.transform(sample)\n",
        "    return sample, target\n",
        "\n",
        "\n",
        "'''\n",
        "un esempio di utilizzo\n",
        "is_valid_file = lambda path: path.endswith('.npy')\n",
        "\n",
        "My_DatasetFolder(root = MyPath,  transform = data_transforms, is_valid_file = is_valid_file, list_classes = ['benign', 'malignant'])\n",
        "'''"
      ],
      "metadata": {
        "id": "OJfcB3WdfrIS"
      },
      "execution_count": null,
      "outputs": []
    },
    {
      "cell_type": "markdown",
      "source": [
        "#Estrazione di features sul train"
      ],
      "metadata": {
        "id": "ej8HSn1Mfx87"
      }
    },
    {
      "cell_type": "code",
      "source": [
        "outfeatures_train =[]\n",
        "\n",
        "data_transforms = transforms.Compose([\n",
        "                                      transforms.ToTensor(),\n",
        "                                      transforms.Resize(224),   #questo è solo un esempio!\n",
        "                                      ])\n",
        "\n",
        "'''\n",
        "Inserire il modello che si vuole considerare\n",
        "'''\n",
        "\n",
        "model = ....\n",
        "model.eval()\n",
        "\n",
        "class_list_train = []\n",
        "class_list_test = []\n",
        "classes = ['benign', 'malignant']\n",
        "data_dir = 'data'   #path dei dati\n",
        "\n",
        "for c in classes:\n",
        "  folder = os.listdir(data_dir + '/train/' + c)\n",
        "  for f in folder:\n",
        "    listImage = os.listdir(data_dir + '/train/' + c + '/' + f)\n",
        "    for input in listImage:\n",
        "      img = np.load(data_dir + '/train/' + c + '/' + f + '/' + input)\n",
        "      img = data_transforms(img).type(torch.FloatTensor).to(device)\n",
        "      img = img.unsqueeze_(0)\n",
        "      outputs = model(img)\n",
        "      outfeatures_train.append((np.squeeze(outputs.cpu().detach()).numpy()))\n",
        "      class_list_train.append(classes.index(c))"
      ],
      "metadata": {
        "id": "sP1ipdYTf0sK"
      },
      "execution_count": null,
      "outputs": []
    }
  ]
}